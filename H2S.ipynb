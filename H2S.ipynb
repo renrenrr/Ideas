{
  "cells": [
    {
      "cell_type": "code",
      "execution_count": 188,
      "metadata": {
        "id": "Bpeo3a6i0Onx"
      },
      "outputs": [],
      "source": [
        "import requests\n",
        "\n",
        "from bs4 import BeautifulSoup\n",
        "\n",
        "from functools import reduce\n"
      ]
    },
    {
      "cell_type": "markdown",
      "metadata": {
        "id": "Sl0VJiRN0m6H"
      },
      "source": [
        "\n",
        "zoom_url = \"https://holland2stay.com/residences.html?available_to_book=179\""
      ]
    },
    {
      "cell_type": "code",
      "execution_count": 208,
      "metadata": {
        "id": "FRh-U7lmTU8v"
      },
      "outputs": [],
      "source": [
        "# Get information from the website\n",
        "def parseResidence(residenceHTML):\n",
        "\n",
        "    price = residenceHTML.select_one(\".price\").text\n",
        "    infomation = residenceHTML.select_one(\".regi-center\").text.strip()\n",
        "    link = residenceHTML.select_one(\".btn.btn-style.blue-btn.regularbold\")['href']\n",
        "    return {'info': infomation, 'price': price, 'link': link}\n",
        "\n",
        "\n",
        "# Filter the locations and max_occupancy\n",
        "def check_location(house_info):\n",
        "    candi_location = ['Amsterdam']\n",
        "    if any(city in house_info['info'] for city in candi_location):\n",
        "        if 'Two (only couples)' in house_info['info']:\n",
        "            return house_info\n",
        "\n",
        "# Send message to the telegram bot\n",
        "\n",
        "def print_info(acc,info):\n",
        "    return str(info['info']).strip()+'\\n'+str(info['price']) + '\\n'+info['link']\n",
        "\n",
        "def telegram_bot_sendtext(bot_message):\n",
        "\n",
        "   bot_token = 'xxxx' # Change the bot token\n",
        "   bot_chatID = 'xxx' # Change the bot chatID\n",
        "   send_text = 'https://api.telegram.org/bot' + bot_token + '/sendMessage?chat_id=' + bot_chatID + '&parse_mode=Markdown&text=' + bot_message\n",
        "\n",
        "   response = requests.get(send_text)\n",
        "\n",
        "   return response.json()\n",
        "\n",
        "\n",
        "zoom_url = \"https://holland2stay.com/residences.html?available_to_book=179\"\n",
        "headers = {\"User-Agent\":\"Mozilla/5.0 (Windows NT 10.0; WOW64) AppleWebKit/537.36 (KHTML, like Gecko) Chrome/71.0.3578.98 Safari/537.36\"}\n",
        "html = requests.get(url=zoom_url,headers= headers)\n",
        "\n",
        "soup = BeautifulSoup(html.text, 'html.parser')\n",
        "residencesList = soup.select(\"div.regi-item\")\n",
        "\n",
        "results = list(filter(check_location,list(map(parseResidence, list(residencesList)))))\n",
        "\n",
        "messagetext = reduce(print_info, results, '') \n",
        "\n",
        "send_msg = telegram_bot_sendtext(messagetext)\n"
      ]
    }
  ],
  "metadata": {
    "colab": {
      "name": "H2S.ipynb",
      "provenance": []
    },
    "kernelspec": {
      "display_name": "Python 3",
      "name": "python3"
    },
    "language_info": {
      "name": "python"
    }
  },
  "nbformat": 4,
  "nbformat_minor": 0
}
