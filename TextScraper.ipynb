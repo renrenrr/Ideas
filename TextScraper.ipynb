{
  "cells": [
    {
      "cell_type": "code",
      "execution_count": null,
      "metadata": {
        "colab": {
          "base_uri": "https://localhost:8080/"
        },
        "id": "s0adCaWM6_Sc",
        "outputId": "179d00b3-95eb-4443-ff88-ea862c6af95f"
      },
      "outputs": [],
      "source": [
        "!pip install requests_html\n",
        "!pip install nest-asyncio"
      ]
    },
    {
      "cell_type": "code",
      "execution_count": 2,
      "metadata": {
        "id": "cS-n3npMya3u"
      },
      "outputs": [],
      "source": [
        "from google.colab import files # upload files\n",
        "from bs4 import BeautifulSoup # HTML parser\n",
        "import requests # an HTTP library\n",
        "from requests_html import AsyncHTMLSession\n",
        "import asyncio\n",
        "from requests_html import HTML\n",
        "import nest_asyncio\n",
        "\n",
        "nest_asyncio.apply()"
      ]
    },
    {
      "cell_type": "code",
      "execution_count": 9,
      "metadata": {
        "id": "ZpIU2zDTzIyz"
      },
      "outputs": [],
      "source": [
        "headers = {'User-Agent': \"Mozilla/5.0 (iPhone; CPU iPhone OS 10_3 like Mac OS X) AppleWebKit/602.1.50 (KHTML, like Gecko) CriOS/56.0.2924.75 Mobile/14E5239e Safari/602.1\"}"
      ]
    },
    {
      "cell_type": "code",
      "execution_count": 10,
      "metadata": {
        "id": "GD87DIbBFabV"
      },
      "outputs": [],
      "source": [
        "content_url = 'https://' # Enter the url\n",
        "r_list = requests.get(content_url,headers = headers)\n",
        "soup_list = BeautifulSoup(r_list.text,'html.parser')\n",
        "urls = []\n",
        "for classes in soup_list.find_all('li', {\"class\": \"BCsectionTwo-top-chapter\"}):\n",
        "    link = classes.find('a') \n",
        "    urls.append('https://'+link.get('href')) # Enter the url"
      ]
    },
    {
      "cell_type": "code",
      "execution_count": null,
      "metadata": {
        "colab": {
          "base_uri": "https://localhost:8080/",
          "height": 56
        },
        "id": "Qmjkrggdh9-o",
        "outputId": "3a2c5c33-18ad-47f1-afe5-dd0666507c52"
      },
      "outputs": [],
      "source": [
        "txt_file = files.upload()"
      ]
    },
    {
      "cell_type": "code",
      "execution_count": 15,
      "metadata": {
        "id": "f9TlW_idHTwR"
      },
      "outputs": [],
      "source": [
        "txt_file = open(\"xxx.txt\",\"a\") # Open the file"
      ]
    },
    {
      "cell_type": "code",
      "execution_count": null,
      "metadata": {
        "colab": {
          "base_uri": "https://localhost:8080/"
        },
        "id": "bH2ONLL0GvP3",
        "outputId": "912ef568-62b5-44d9-e4b9-6e128065949d"
      },
      "outputs": [],
      "source": [
        "count = 0\n",
        "#for chap_url in urls:\n",
        "async def write_chapter(chap_url, headers, txt_file):  \n",
        "      \n",
        "    asession = AsyncHTMLSession()\n",
        "\n",
        "    arequest = await asession.get(chap_url, headers = headers, timeout = None)\n",
        "\n",
        "    await arequest.html.arender(timeout = 999)\n",
        "\n",
        "    rawHtml = arequest.html.raw_html\n",
        "\n",
        "    html = BeautifulSoup(rawHtml.decode('utf8','ignore'), 'html.parser')\n",
        "\n",
        "    content = html.find(\"div\", {\"id\": \"C0NTENT\"})\n",
        "\n",
        "    text_list = content.find_all(\"p\")\n",
        "\n",
        "    for txt in text_list:\n",
        "        txt_file.write(txt.text)\n",
        "        txt_file.write(\"\\n\")\n",
        "    txt_file.write(\"-----------------------\")\n",
        "    txt_file.write(\"\\n\")\n",
        "\n",
        "  \n",
        "for chap_url in urls:\n",
        "    await write_chapter(chap_url, headers, txt_file)\n",
        "    count += 1\n",
        "    print('Finish chapter', count)"
      ]
    },
    {
      "cell_type": "code",
      "execution_count": 17,
      "metadata": {
        "id": "MAcVl46BHeh1"
      },
      "outputs": [],
      "source": [
        "txt_file.close()"
      ]
    },
    {
      "cell_type": "markdown",
      "metadata": {
        "id": "30WJCKrDjkdM"
      },
      "source": [
        "**Example**"
      ]
    },
    {
      "cell_type": "code",
      "execution_count": null,
      "metadata": {
        "colab": {
          "base_uri": "https://localhost:8080/"
        },
        "id": "15_lqse67Np2",
        "outputId": "7b29d2f2-cbc9-469d-d1a1-eb74a8d9c733"
      },
      "outputs": [],
      "source": [
        "# Load the javascript\n",
        "\n",
        "url = \"https://www.xxx.html\"\n",
        "\n",
        "asession = AsyncHTMLSession()\n",
        "\n",
        "arequest = await asession.get(url, headers = headers)\n",
        "\n",
        "await arequest.html.arender()\n",
        "\n",
        "rawHtml = arequest.html.raw_html"
      ]
    },
    {
      "cell_type": "code",
      "execution_count": null,
      "metadata": {
        "id": "kaBb6kA7yrd0"
      },
      "outputs": [],
      "source": [
        "html = BeautifulSoup(rawHtml.decode('utf8','ignore'), 'html.parser')"
      ]
    },
    {
      "cell_type": "code",
      "execution_count": null,
      "metadata": {
        "id": "6cEEpFrw0SOe"
      },
      "outputs": [],
      "source": [
        "content = html.find(\"div\", {\"id\": \"C0NTENT\"})"
      ]
    },
    {
      "cell_type": "code",
      "execution_count": null,
      "metadata": {
        "id": "4bcQZDWT041p"
      },
      "outputs": [],
      "source": [
        "array = content.find_all(\"p\")"
      ]
    }
  ],
  "metadata": {
    "colab": {
      "provenance": []
    },
    "kernelspec": {
      "display_name": "Python 3",
      "name": "python3"
    },
    "language_info": {
      "name": "python"
    }
  },
  "nbformat": 4,
  "nbformat_minor": 0
}
